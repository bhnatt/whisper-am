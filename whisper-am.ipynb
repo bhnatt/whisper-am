{
 "cells": [
  {
   "cell_type": "code",
   "execution_count": 4,
   "id": "31352d1f-97cc-4a22-a378-efc2a5817b17",
   "metadata": {},
   "outputs": [
    {
     "name": "stdout",
     "output_type": "stream",
     "text": [
      "Note: you may need to restart the kernel to use updated packages.\n",
      "Note: you may need to restart the kernel to use updated packages.\n",
      "Cloning into 'whisper-am'...\n",
      "remote: Enumerating objects: 13, done.\u001b[K\n",
      "remote: Counting objects: 100% (13/13), done.\u001b[K\n",
      "remote: Compressing objects: 100% (8/8), done.\u001b[K\n",
      "remote: Total 13 (delta 2), reused 10 (delta 2), pack-reused 0\u001b[K\n",
      "Receiving objects: 100% (13/13), 6.97 KiB | 6.97 MiB/s, done.\n",
      "Resolving deltas: 100% (2/2), done.\n",
      "The autoreload extension is already loaded. To reload it, use:\n",
      "  %reload_ext autoreload\n"
     ]
    }
   ],
   "source": [
    "#@title Initialize and prepare Whisper environment\n",
    "\n",
    "%pip install -q git+https://github.com/openai/whisper.git\n",
    "%pip install -q python-docx\n",
    "!git clone -b master https://github.com/bhnatt/whisper-am.git\n",
    "\n",
    "#https://ipython.org/ipython-doc/3/config/extensions/autoreload.html\n",
    "%load_ext autoreload\n",
    "%autoreload 2"
   ]
  },
  {
   "cell_type": "code",
   "execution_count": 5,
   "id": "1aaa0dc7-0f88-4ff7-8aac-5216408461fd",
   "metadata": {},
   "outputs": [
    {
     "name": "stdout",
     "output_type": "stream",
     "text": [
      "Not a Google Colab environment !!!\n",
      "./data/\n",
      "cpu\n"
     ]
    }
   ],
   "source": [
    "#@title input parameters\n",
    "import sys\n",
    "sys.path.append('whisper-am')\n",
    "\n",
    "from whisper_am import WhisperAM, mountDrive\n",
    "from whisper_utils import write_txt, write_srt\n",
    "\n",
    "data_dir = 'data' #@param {type:\"string\"}\n",
    "if data_dir [-1] != '/' : data_dir = data_dir + '/'\n",
    "\n",
    "ds = mountDrive ()\n",
    "google_drive = '/content/drive/MyDrive/' if ds else './'\n",
    "data_path   = google_drive + data_dir\n",
    "model_name = 'tiny.en' #@param [\"medium.en\", \"large\", \"tiny.en\"]\n",
    "\n",
    "am = WhisperAM (model_name, data_path)\n",
    "am.checkCuda ()"
   ]
  },
  {
   "cell_type": "code",
   "execution_count": 6,
   "id": "7f49f307-6970-4e2e-a104-83087a691b2a",
   "metadata": {},
   "outputs": [
    {
     "name": "stdout",
     "output_type": "stream",
     "text": [
      "Start : 14:35:32 12/02/22 KST\n",
      "End  : 14:35:33 12/02/22 KST\n",
      "CPU times: user 510 ms, sys: 152 ms, total: 662 ms\n",
      "Wall time: 663 ms\n"
     ]
    }
   ],
   "source": [
    "%%time\n",
    "#@title run Whisper\n",
    "import time\n",
    "\n",
    "print ('Start :', time.strftime('%X %x %Z'))\n",
    "am.run ()\n",
    "print ('End  :', time.strftime('%X %x %Z'))"
   ]
  }
 ],
 "metadata": {
  "kernelspec": {
   "display_name": "stt",
   "language": "python",
   "name": "stt"
  },
  "language_info": {
   "codemirror_mode": {
    "name": "ipython",
    "version": 3
   },
   "file_extension": ".py",
   "mimetype": "text/x-python",
   "name": "python",
   "nbconvert_exporter": "python",
   "pygments_lexer": "ipython3",
   "version": "3.10.4"
  }
 },
 "nbformat": 4,
 "nbformat_minor": 5
}
