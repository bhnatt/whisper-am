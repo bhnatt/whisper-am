{
 "cells": [
  {
   "cell_type": "code",
   "execution_count": 1,
   "id": "31352d1f-97cc-4a22-a378-efc2a5817b17",
   "metadata": {},
   "outputs": [
    {
     "name": "stdout",
     "output_type": "stream",
     "text": [
      "Note: you may need to restart the kernel to use updated packages.\n",
      "Note: you may need to restart the kernel to use updated packages.\n",
      "fatal: destination path 'whisper-am' already exists and is not an empty directory.\n"
     ]
    }
   ],
   "source": [
    "#@Initialize and prepare Whisper engironment\n",
    "\n",
    "%pip install -q git+https://github.com/openai/whisper.git\n",
    "%pip install -q python-docx\n",
    "!git clone -b master https://github.com/bhnatt/whisper-am.git\n",
    "\n",
    "#https://ipython.org/ipython-doc/3/config/extensions/autoreload.html\n",
    "%load_ext autoreload\n",
    "%autoreload 2"
   ]
  },
  {
   "cell_type": "code",
   "execution_count": 3,
   "id": "1aaa0dc7-0f88-4ff7-8aac-5216408461fd",
   "metadata": {},
   "outputs": [],
   "source": [
    "#@input parameters\n",
    "import sys\n",
    "sys.path.append('whisper-am')\n",
    "\n",
    "from whisper_am import WhisperAM, mountDrive\n",
    "from whisper_utils import write_txt, write_srt\n",
    "\n",
    "data_dir = 'data/'\n",
    "\n",
    "ds = mountDrive ()\n",
    "google_drive = '/content/drive/MyDrive/' if ds else './'\n",
    "\n",
    "data_path   = google_drive + data_dir   #@param {type:\"string\"}\n",
    "print (data_path)\n",
    "\n",
    "model_name = 'tiny.en' #@param [\"medium.en\", \"large\", \"tiny.en\"]\n",
    "\n",
    "am = WhisperAM (model_name, data_path)\n",
    "am.checkCuda ()"
   ]
  },
  {
   "cell_type": "code",
   "execution_count": 4,
   "id": "7f49f307-6970-4e2e-a104-83087a691b2a",
   "metadata": {},
   "outputs": [
    {
     "name": "stdout",
     "output_type": "stream",
     "text": [
      "Start : 04:52:37 12/02/22 GMT\n",
      "['./data/dream.mp3']\n",
      "dream\n",
      "dream \n",
      "  I have the pleasure to present to you, Dr. Martin ... d Negro spiritual and yet last, thank God Almighty\n",
      "End  : 04:53:09 12/02/22 GMT\n",
      "CPU times: user 41.7 s, sys: 3.34 s, total: 45 s\n",
      "Wall time: 31.4 s\n"
     ]
    }
   ],
   "source": [
    "%%time\n",
    "#@title run Whisper\n",
    "import time\n",
    "\n",
    "print ('Start :', time.strftime('%X %x %Z'))\n",
    "am.run ()\n",
    "print ('End  :', time.strftime('%X %x %Z'))"
   ]
  }
 ],
 "metadata": {
  "kernelspec": {
   "display_name": "stt",
   "language": "python",
   "name": "stt"
  },
  "language_info": {
   "codemirror_mode": {
    "name": "ipython",
    "version": 3
   },
   "file_extension": ".py",
   "mimetype": "text/x-python",
   "name": "python",
   "nbconvert_exporter": "python",
   "pygments_lexer": "ipython3",
   "version": "3.10.4"
  }
 },
 "nbformat": 4,
 "nbformat_minor": 5
}
