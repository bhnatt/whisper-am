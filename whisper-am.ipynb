{
 "cells": [
  {
   "cell_type": "code",
   "execution_count": 10,
   "id": "31352d1f-97cc-4a22-a378-efc2a5817b17",
   "metadata": {},
   "outputs": [
    {
     "name": "stdout",
     "output_type": "stream",
     "text": [
      "Note: you may need to restart the kernel to use updated packages.\n",
      "Note: you may need to restart the kernel to use updated packages.\n",
      "fatal: destination path 'whisper-am' already exists and is not an empty directory.\n",
      "The autoreload extension is already loaded. To reload it, use:\n",
      "  %reload_ext autoreload\n"
     ]
    }
   ],
   "source": [
    "#@title Initialize and prepare Whisper environment\n",
    "\n",
    "%pip install -q git+https://github.com/openai/whisper.git\n",
    "%pip install -q python-docx\n",
    "!git clone -b master https://github.com/bhnatt/whisper-am.git\n",
    "\n",
    "#https://ipython.org/ipython-doc/3/config/extensions/autoreload.html\n",
    "%load_ext autoreload\n",
    "%autoreload 2"
   ]
  },
  {
   "cell_type": "code",
   "execution_count": 1,
   "id": "1aaa0dc7-0f88-4ff7-8aac-5216408461fd",
   "metadata": {},
   "outputs": [
    {
     "name": "stdout",
     "output_type": "stream",
     "text": [
      "Not a Google Colab environment !!!\n",
      "Change colab runtime to GPU...\n"
     ]
    }
   ],
   "source": [
    "#@title input parameters\n",
    "import sys\n",
    "#sys.path.append('whisper-am')\n",
    "\n",
    "from whisper_am import WhisperAM, mountDrive\n",
    "from whisper_utils import write_txt, write_srt\n",
    "\n",
    "data_dir = 'data' #@param {type:\"string\"}\n",
    "if data_dir [-1] != '/' : data_dir = data_dir + '/'\n",
    "\n",
    "ds = mountDrive ()\n",
    "google_drive = '/content/drive/MyDrive/' if ds else './'\n",
    "data_path   = google_drive + data_dir\n",
    "model_name = 'tiny.en' #@param [\"medium.en\", \"large\", \"tiny.en\"]\n",
    "\n",
    "am = WhisperAM (model_name, data_path)\n",
    "if am.checkCuda () != 'cuda' :\n",
    "    print ('Change colab runtime to GPU...')\n",
    "    exit ()"
   ]
  },
  {
   "cell_type": "code",
   "execution_count": 2,
   "id": "7f49f307-6970-4e2e-a104-83087a691b2a",
   "metadata": {},
   "outputs": [
    {
     "name": "stdout",
     "output_type": "stream",
     "text": [
      "Start : 19:14:11 12/02/22 KST\n",
      "./data/sample-0.mp3\n"
     ]
    },
    {
     "name": "stderr",
     "output_type": "stream",
     "text": [
      "/home/dwchoi/miniconda3/envs/stt/lib/python3.10/site-packages/whisper/transcribe.py:76: UserWarning: FP16 is not supported on CPU; using FP32 instead\n",
      "  warnings.warn(\"FP16 is not supported on CPU; using FP32 instead\")\n"
     ]
    },
    {
     "name": "stdout",
     "output_type": "stream",
     "text": [
      " My thought I have nobody by a beauty and will as  ... s simple and devoted about to that might in a way.\n",
      "End  : 19:15:21 12/02/22 KST\n",
      "CPU times: user 1min 7s, sys: 1.79 s, total: 1min 9s\n",
      "Wall time: 1min 9s\n"
     ]
    }
   ],
   "source": [
    "%%time\n",
    "#@title run Whisper\n",
    "import time\n",
    "\n",
    "print ('Start :', time.strftime('%X %x %Z'))\n",
    "am.run ()\n",
    "print ('End  :', time.strftime('%X %x %Z'))"
   ]
  },
  {
   "cell_type": "code",
   "execution_count": 34,
   "id": "4999d0b0-73bf-47a1-bc98-2e9f73bb52a8",
   "metadata": {},
   "outputs": [],
   "source": [
    "#https://www.programcreek.com/python/example/117479/ffmpeg.output\n",
    "\n",
    "import ffmpeg\n",
    "stream = ffmpeg.input ('./data/sample-0.mp3')\n",
    "audio = stream.audio\n",
    "stream = ffmpeg.output(audio, './data/sample-0-16k.mp3',\n",
    "                       **{'ar': '16000', 'acodec': 'mp3'}).overwrite_output ()\n",
    "out = ffmpeg.run (stream, capture_stdout=True, capture_stderr=True)"
   ]
  }
 ],
 "metadata": {
  "kernelspec": {
   "display_name": "stt",
   "language": "python",
   "name": "stt"
  },
  "language_info": {
   "codemirror_mode": {
    "name": "ipython",
    "version": 3
   },
   "file_extension": ".py",
   "mimetype": "text/x-python",
   "name": "python",
   "nbconvert_exporter": "python",
   "pygments_lexer": "ipython3",
   "version": "3.10.4"
  }
 },
 "nbformat": 4,
 "nbformat_minor": 5
}
