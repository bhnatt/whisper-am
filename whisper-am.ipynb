{
 "cells": [
  {
   "cell_type": "code",
   "execution_count": 5,
   "id": "31352d1f-97cc-4a22-a378-efc2a5817b17",
   "metadata": {},
   "outputs": [
    {
     "name": "stdout",
     "output_type": "stream",
     "text": [
      "Note: you may need to restart the kernel to use updated packages.\n",
      "Note: you may need to restart the kernel to use updated packages.\n",
      "Note: you may need to restart the kernel to use updated packages.\n",
      "Note: you may need to restart the kernel to use updated packages.\n",
      "fatal: destination path 'whisper-am' already exists and is not an empty directory.\n",
      "The autoreload extension is already loaded. To reload it, use:\n",
      "  %reload_ext autoreload\n"
     ]
    }
   ],
   "source": [
    "#@title Initialize and prepare Whisper environment\n",
    "\n",
    "%pip install -q git+https://github.com/openai/whisper.git\n",
    "%pip install -q ffmpeg-python\n",
    "%pip install -q python-docx\n",
    "%pip install -q srt\n",
    "!git clone -b master https://github.com/bhnatt/whisper-am.git\n",
    "\n",
    "### https://ipython.org/ipython-doc/3/config/extensions/autoreload.html\n",
    "%load_ext autoreload\n",
    "%autoreload 2"
   ]
  },
  {
   "cell_type": "code",
   "execution_count": 10,
   "id": "1aaa0dc7-0f88-4ff7-8aac-5216408461fd",
   "metadata": {},
   "outputs": [
    {
     "name": "stdout",
     "output_type": "stream",
     "text": [
      "Not a Google Colab environment !!!\n"
     ]
    }
   ],
   "source": [
    "#@title input parameters\n",
    "import os\n",
    "import sys\n",
    "if os.path.isdir ('/content/whisper-am') :\n",
    "    sys.path.append ('/content/whisper-am')\n",
    "\n",
    "from whisper_am import WhisperAM, mountDrive\n",
    "\n",
    "data_dir = 'data' #@param {type:\"string\"}\n",
    "if data_dir [-1] != '/' : data_dir = data_dir + '/'\n",
    "\n",
    "ds = mountDrive ()\n",
    "google_drive = '/content/drive/MyDrive/' if ds else './'\n",
    "data_path   = google_drive + data_dir\n",
    "model_name = 'small.en' #@param [\"medium.en\", \"large\", \"small.en', \"tiny.en\"]\n",
    "\n",
    "am = WhisperAM (model_name, data_path)\n",
    "if am.checkCuda () != 'cuda' :\n",
    "    print ('need to change colab runtime to GPU...')\n",
    "    if ds : exit ()"
   ]
  },
  {
   "cell_type": "code",
   "execution_count": 11,
   "id": "7f49f307-6970-4e2e-a104-83087a691b2a",
   "metadata": {},
   "outputs": [
    {
     "name": "stdout",
     "output_type": "stream",
     "text": [
      "Start : 17:16:05 12/14/22 KST\n",
      "./data/dream.mp3\n",
      " I have the pleasure to present to you Dr. Martin  ...  at last, thank God Almighty, we are free at last.\n",
      "\n",
      "./data/Winston_Churchill_-_Be_Ye_Men_of_Valour.m4a\n",
      " I speak to you for the first time as Prime Minist ...  the will of God is in heaven, even so let him do.\n",
      "\n",
      "End  : 17:24:51 12/14/22 KST\n"
     ]
    }
   ],
   "source": [
    "#%%time\n",
    "#@title run Whisper\n",
    "import time\n",
    "\n",
    "print ('Start :', time.strftime('%X %x %Z'))\n",
    "am.run ()\n",
    "print ('End  :', time.strftime('%X %x %Z'))"
   ]
  }
 ],
 "metadata": {
  "kernelspec": {
   "display_name": "Python 3.8.12 ('tts')",
   "language": "python",
   "name": "python3"
  },
  "language_info": {
   "codemirror_mode": {
    "name": "ipython",
    "version": 3
   },
   "file_extension": ".py",
   "mimetype": "text/x-python",
   "name": "python",
   "nbconvert_exporter": "python",
   "pygments_lexer": "ipython3",
   "version": "3.8.12"
  },
  "vscode": {
   "interpreter": {
    "hash": "d3ac50fd90f89b504dbb9808c4d928d7f4deb6cf8ce2d705f5797ac68706fcc2"
   }
  }
 },
 "nbformat": 4,
 "nbformat_minor": 5
}
