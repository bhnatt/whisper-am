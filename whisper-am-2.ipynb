{
 "cells": [
  {
   "cell_type": "code",
   "execution_count": null,
   "id": "31352d1f-97cc-4a22-a378-efc2a5817b17",
   "metadata": {},
   "outputs": [],
   "source": [
    "#@title Initialize and prepare Whisper environment {display-mode: \"form\"}\n",
    "\n",
    "# %pip install -q git+https://github.com/openai/whisper.git\n",
    "%pip install -q faster-whisper\n",
    "%pip install -q ffmpeg-python\n",
    "%pip install -q python-docx\n",
    "%pip install -q srt\n",
    "!git clone -b vad2 https://github.com/bhnatt/whisper-am.git\n",
    "\n",
    "### https://ipython.org/ipython-doc/3/config/extensions/autoreload.html\n",
    "%load_ext autoreload\n",
    "%autoreload 2"
   ]
  },
  {
   "cell_type": "code",
   "execution_count": 2,
   "id": "1aaa0dc7-0f88-4ff7-8aac-5216408461fd",
   "metadata": {},
   "outputs": [
    {
     "name": "stdout",
     "output_type": "stream",
     "text": [
      "Not a Google Colab environment !!!\n"
     ]
    }
   ],
   "source": [
    "#@title input parameters {display-mode: \"form\"}\n",
    "import os\n",
    "import sys\n",
    "if os.path.isdir ('/content/whisper-am') :\n",
    "    sys.path.append ('/content/whisper-am')\n",
    "\n",
    "from whisper_am import WhisperAM, mountDrive\n",
    "\n",
    "data_dir = 'whisper' #@param {type:\"string\"}\n",
    "if data_dir [-1] != '/' : data_dir = data_dir + '/'\n",
    "\n",
    "ds = mountDrive ()\n",
    "google_drive = '/content/drive/MyDrive/' if ds else './'\n",
    "data_path   = google_drive + data_dir\n",
    "model_name = 'tiny.en' #@param [\"medium.en\", \"large\", \"large-v2\", \"small.en', \"tiny.en\", \"medium\", \"small\", \"tiny\"]\n",
    "\n",
    "initial_prompt = 'Now, ready.' #@param {type:\"string\"}\n",
    "doc_download = False #@param {type:\"boolean\"}\n",
    "FASTER = True #@param {type:\"boolean\"}\n",
    "\n",
    "am = WhisperAM (model_name, data_path, initial_prompt=initial_prompt, doc_download=doc_download, FASTER=FASTER)\n",
    "if am.checkCuda () != 'cuda' :\n",
    "    print ('need to change colab runtime to GPU...')\n",
    "    if ds : exit ()"
   ]
  },
  {
   "cell_type": "code",
   "execution_count": 3,
   "id": "7f49f307-6970-4e2e-a104-83087a691b2a",
   "metadata": {},
   "outputs": [
    {
     "name": "stdout",
     "output_type": "stream",
     "text": [
      "Start : 00:41:29 04/26/23 KST\n",
      "./whisper/23EW14Gautama041023.mp3\n",
      "I am the ascended master, Gautama Buddha. What doe ... e unconditional indescribable peace of the Buddha.\n",
      "\n",
      "End  : 00:43:12 04/26/23 KST\n"
     ]
    }
   ],
   "source": [
    "#%%time\n",
    "#@title run Whisper {display-mode: \"form\"}\n",
    "import time\n",
    "\n",
    "print ('Start :', time.strftime('%X %x %Z'))\n",
    "am.run ()\n",
    "print ('End  :', time.strftime('%X %x %Z'))"
   ]
  }
 ],
 "metadata": {
  "kernelspec": {
   "display_name": "tts",
   "language": "python",
   "name": "python3"
  },
  "language_info": {
   "codemirror_mode": {
    "name": "ipython",
    "version": 3
   },
   "file_extension": ".py",
   "mimetype": "text/x-python",
   "name": "python",
   "nbconvert_exporter": "python",
   "pygments_lexer": "ipython3",
   "version": "3.8.12"
  }
 },
 "nbformat": 4,
 "nbformat_minor": 5
}
